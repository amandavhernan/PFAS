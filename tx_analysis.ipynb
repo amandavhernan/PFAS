{
 "cells": [
  {
   "cell_type": "code",
   "execution_count": 2,
   "metadata": {},
   "outputs": [],
   "source": [
    "import pandas as pd\n",
    "import folium\n",
    "from folium.plugins import HeatMap"
   ]
  },
  {
   "cell_type": "code",
   "execution_count": null,
   "metadata": {},
   "outputs": [],
   "source": [
    "# df\n",
    "pfas_in_texas = pd.read_csv('data/texas/tx_water_sites.csv')\n",
    "pfas_in_texas.head()"
   ]
  },
  {
   "cell_type": "code",
   "execution_count": 4,
   "metadata": {},
   "outputs": [
    {
     "data": {
      "text/html": [
       "<div>\n",
       "<style scoped>\n",
       "    .dataframe tbody tr th:only-of-type {\n",
       "        vertical-align: middle;\n",
       "    }\n",
       "\n",
       "    .dataframe tbody tr th {\n",
       "        vertical-align: top;\n",
       "    }\n",
       "\n",
       "    .dataframe thead th {\n",
       "        text-align: right;\n",
       "    }\n",
       "</style>\n",
       "<table border=\"1\" class=\"dataframe\">\n",
       "  <thead>\n",
       "    <tr style=\"text-align: right;\">\n",
       "      <th></th>\n",
       "      <th>PFAS water sites</th>\n",
       "    </tr>\n",
       "    <tr>\n",
       "      <th>ZIP</th>\n",
       "      <th></th>\n",
       "    </tr>\n",
       "  </thead>\n",
       "  <tbody>\n",
       "    <tr>\n",
       "      <th>78227</th>\n",
       "      <td>4</td>\n",
       "    </tr>\n",
       "    <tr>\n",
       "      <th>77019</th>\n",
       "      <td>4</td>\n",
       "    </tr>\n",
       "    <tr>\n",
       "      <th>77027</th>\n",
       "      <td>3</td>\n",
       "    </tr>\n",
       "    <tr>\n",
       "      <th>76065</th>\n",
       "      <td>3</td>\n",
       "    </tr>\n",
       "    <tr>\n",
       "      <th>78660</th>\n",
       "      <td>3</td>\n",
       "    </tr>\n",
       "  </tbody>\n",
       "</table>\n",
       "</div>"
      ],
      "text/plain": [
       "       PFAS water sites\n",
       "ZIP                    \n",
       "78227                 4\n",
       "77019                 4\n",
       "77027                 3\n",
       "76065                 3\n",
       "78660                 3"
      ]
     },
     "execution_count": 4,
     "metadata": {},
     "output_type": "execute_result"
    }
   ],
   "source": [
    "# top 5 zips\n",
    "pfas_sites_desc =  pd.DataFrame(pfas_in_texas.groupby('ZIP')['PFAS water sites'].count().sort_values(ascending=False))\n",
    "pfas_sites_desc.head()"
   ]
  },
  {
   "cell_type": "code",
   "execution_count": 11,
   "metadata": {},
   "outputs": [],
   "source": [
    "# texas heatmap\n",
    "\n",
    "# map object\n",
    "mapObj = folium.Map([31.000000, -100.000000], zoom_start=6)\n",
    "\n",
    "# heatmap data\n",
    "df = pd.read_csv('data/texas/tx_heatmap_data.csv')\n",
    "data = df.values.tolist()\n",
    "\n",
    "# rescale each value between 0 and 1 using (val-minColorVal)/(maxColorVal-minColorVal)\n",
    "# minColorVal = 1, maxColorVal = 4\n",
    "mapData = [[x[0], x[1], (x[2]-1)/(4-1)] for x in data]\n",
    "\n",
    "# custom color gradient\n",
    "colrGradient = {0.0: 'blue',\n",
    "                0.6: 'cyan',\n",
    "                0.7: 'lime',\n",
    "                0.8: 'yellow',\n",
    "                1.0: 'red'}\n",
    "\n",
    "# use data to create heatmap and add it to map object\n",
    "HeatMap(mapData, gradient=colrGradient).add_to(mapObj)\n",
    "\n",
    "# save map object as html\n",
    "mapObj.save(\"tx_heatmap.html\")"
   ]
  },
  {
   "cell_type": "code",
   "execution_count": 21,
   "metadata": {},
   "outputs": [
    {
     "data": {
      "text/html": [
       "<div>\n",
       "<style scoped>\n",
       "    .dataframe tbody tr th:only-of-type {\n",
       "        vertical-align: middle;\n",
       "    }\n",
       "\n",
       "    .dataframe tbody tr th {\n",
       "        vertical-align: top;\n",
       "    }\n",
       "\n",
       "    .dataframe thead th {\n",
       "        text-align: right;\n",
       "    }\n",
       "</style>\n",
       "<table border=\"1\" class=\"dataframe\">\n",
       "  <thead>\n",
       "    <tr style=\"text-align: right;\">\n",
       "      <th></th>\n",
       "      <th>ZIP</th>\n",
       "    </tr>\n",
       "    <tr>\n",
       "      <th>city</th>\n",
       "      <th></th>\n",
       "    </tr>\n",
       "  </thead>\n",
       "  <tbody>\n",
       "    <tr>\n",
       "      <th>Houston</th>\n",
       "      <td>25</td>\n",
       "    </tr>\n",
       "    <tr>\n",
       "      <th>San Antonio</th>\n",
       "      <td>11</td>\n",
       "    </tr>\n",
       "    <tr>\n",
       "      <th>Austin</th>\n",
       "      <td>8</td>\n",
       "    </tr>\n",
       "    <tr>\n",
       "      <th>Fort Worth</th>\n",
       "      <td>8</td>\n",
       "    </tr>\n",
       "    <tr>\n",
       "      <th>Dallas</th>\n",
       "      <td>6</td>\n",
       "    </tr>\n",
       "    <tr>\n",
       "      <th>Cypress</th>\n",
       "      <td>4</td>\n",
       "    </tr>\n",
       "    <tr>\n",
       "      <th>El Paso</th>\n",
       "      <td>4</td>\n",
       "    </tr>\n",
       "    <tr>\n",
       "      <th>Pflugerville</th>\n",
       "      <td>4</td>\n",
       "    </tr>\n",
       "    <tr>\n",
       "      <th>Midlothian</th>\n",
       "      <td>3</td>\n",
       "    </tr>\n",
       "    <tr>\n",
       "      <th>Mission</th>\n",
       "      <td>3</td>\n",
       "    </tr>\n",
       "  </tbody>\n",
       "</table>\n",
       "</div>"
      ],
      "text/plain": [
       "              ZIP\n",
       "city             \n",
       "Houston        25\n",
       "San Antonio    11\n",
       "Austin          8\n",
       "Fort Worth      8\n",
       "Dallas          6\n",
       "Cypress         4\n",
       "El Paso         4\n",
       "Pflugerville    4\n",
       "Midlothian      3\n",
       "Mission         3"
      ]
     },
     "execution_count": 21,
     "metadata": {},
     "output_type": "execute_result"
    }
   ],
   "source": [
    "# counts number of zip codes in each city affected by pfas contamination\n",
    "pfas_city_num = pd.DataFrame(pfas_in_texas.groupby('city')['ZIP'].count().sort_values(ascending=False))\n",
    "pfas_city_num.head(10)"
   ]
  },
  {
   "cell_type": "code",
   "execution_count": 22,
   "metadata": {},
   "outputs": [
    {
     "data": {
      "text/html": [
       "<div>\n",
       "<style scoped>\n",
       "    .dataframe tbody tr th:only-of-type {\n",
       "        vertical-align: middle;\n",
       "    }\n",
       "\n",
       "    .dataframe tbody tr th {\n",
       "        vertical-align: top;\n",
       "    }\n",
       "\n",
       "    .dataframe thead th {\n",
       "        text-align: right;\n",
       "    }\n",
       "</style>\n",
       "<table border=\"1\" class=\"dataframe\">\n",
       "  <thead>\n",
       "    <tr style=\"text-align: right;\">\n",
       "      <th></th>\n",
       "      <th>ZIP</th>\n",
       "    </tr>\n",
       "    <tr>\n",
       "      <th>county</th>\n",
       "      <th></th>\n",
       "    </tr>\n",
       "  </thead>\n",
       "  <tbody>\n",
       "    <tr>\n",
       "      <th>Harris</th>\n",
       "      <td>39</td>\n",
       "    </tr>\n",
       "    <tr>\n",
       "      <th>Dallas</th>\n",
       "      <td>22</td>\n",
       "    </tr>\n",
       "    <tr>\n",
       "      <th>Tarrant</th>\n",
       "      <td>21</td>\n",
       "    </tr>\n",
       "    <tr>\n",
       "      <th>Bexar</th>\n",
       "      <td>15</td>\n",
       "    </tr>\n",
       "    <tr>\n",
       "      <th>Hidalgo</th>\n",
       "      <td>14</td>\n",
       "    </tr>\n",
       "    <tr>\n",
       "      <th>Travis</th>\n",
       "      <td>12</td>\n",
       "    </tr>\n",
       "    <tr>\n",
       "      <th>Galveston</th>\n",
       "      <td>9</td>\n",
       "    </tr>\n",
       "    <tr>\n",
       "      <th>Denton</th>\n",
       "      <td>9</td>\n",
       "    </tr>\n",
       "    <tr>\n",
       "      <th>Williamson</th>\n",
       "      <td>9</td>\n",
       "    </tr>\n",
       "    <tr>\n",
       "      <th>Collin</th>\n",
       "      <td>8</td>\n",
       "    </tr>\n",
       "  </tbody>\n",
       "</table>\n",
       "</div>"
      ],
      "text/plain": [
       "            ZIP\n",
       "county         \n",
       "Harris       39\n",
       "Dallas       22\n",
       "Tarrant      21\n",
       "Bexar        15\n",
       "Hidalgo      14\n",
       "Travis       12\n",
       "Galveston     9\n",
       "Denton        9\n",
       "Williamson    9\n",
       "Collin        8"
      ]
     },
     "execution_count": 22,
     "metadata": {},
     "output_type": "execute_result"
    }
   ],
   "source": [
    "# counts number of zip codes in each county affected by pfas contamination\n",
    "pfas_county_num = pd.DataFrame(pfas_in_texas.groupby('county')['ZIP'].count().sort_values(ascending=False))\n",
    "pfas_county_num.head(10)"
   ]
  },
  {
   "cell_type": "code",
   "execution_count": 4,
   "metadata": {},
   "outputs": [
    {
     "name": "stdout",
     "output_type": "stream",
     "text": [
      "More than $75,000    103\n",
      "$35,000 - $55,000     99\n",
      "$55,001 - $75,000     86\n",
      "Less than $35,000     12\n",
      "Name: Income_DESC, dtype: int64\n"
     ]
    }
   ],
   "source": [
    "# income counts (all of tx)\n",
    "print(pfas_in_texas.Income_DESC.value_counts())"
   ]
  },
  {
   "cell_type": "code",
   "execution_count": 5,
   "metadata": {},
   "outputs": [
    {
     "name": "stdout",
     "output_type": "stream",
     "text": [
      "25.1% - 50%      138\n",
      "50.1% - 75%       72\n",
      "More than 75%     53\n",
      "10% - 25%         34\n",
      "Less than 10%      4\n",
      "Name: Nonwhite_DESC, dtype: int64\n"
     ]
    }
   ],
   "source": [
    "# non-white pop counts (all of tx)\n",
    "print(pfas_in_texas.Nonwhite_DESC.value_counts())"
   ]
  },
  {
   "cell_type": "code",
   "execution_count": 12,
   "metadata": {},
   "outputs": [],
   "source": [
    "# houston metro subset, save as csv\n",
    "houston_metro = pfas_in_texas.loc[pfas_in_texas['county'].isin(['Brazoria','Chambers','Fort Bend','Galveston','Harris','Liberty','Montgomery','Waller'])]\n",
    "houston_metro.to_csv('houston_metro_sites.csv')"
   ]
  },
  {
   "cell_type": "code",
   "execution_count": 10,
   "metadata": {},
   "outputs": [
    {
     "data": {
      "text/html": [
       "<div>\n",
       "<style scoped>\n",
       "    .dataframe tbody tr th:only-of-type {\n",
       "        vertical-align: middle;\n",
       "    }\n",
       "\n",
       "    .dataframe tbody tr th {\n",
       "        vertical-align: top;\n",
       "    }\n",
       "\n",
       "    .dataframe thead th {\n",
       "        text-align: right;\n",
       "    }\n",
       "</style>\n",
       "<table border=\"1\" class=\"dataframe\">\n",
       "  <thead>\n",
       "    <tr style=\"text-align: right;\">\n",
       "      <th></th>\n",
       "      <th>ZIP</th>\n",
       "    </tr>\n",
       "    <tr>\n",
       "      <th>county</th>\n",
       "      <th></th>\n",
       "    </tr>\n",
       "  </thead>\n",
       "  <tbody>\n",
       "    <tr>\n",
       "      <th>Harris</th>\n",
       "      <td>39</td>\n",
       "    </tr>\n",
       "    <tr>\n",
       "      <th>Galveston</th>\n",
       "      <td>9</td>\n",
       "    </tr>\n",
       "    <tr>\n",
       "      <th>Brazoria</th>\n",
       "      <td>7</td>\n",
       "    </tr>\n",
       "    <tr>\n",
       "      <th>Montgomery</th>\n",
       "      <td>6</td>\n",
       "    </tr>\n",
       "    <tr>\n",
       "      <th>Fort Bend</th>\n",
       "      <td>5</td>\n",
       "    </tr>\n",
       "    <tr>\n",
       "      <th>Liberty</th>\n",
       "      <td>2</td>\n",
       "    </tr>\n",
       "  </tbody>\n",
       "</table>\n",
       "</div>"
      ],
      "text/plain": [
       "            ZIP\n",
       "county         \n",
       "Harris       39\n",
       "Galveston     9\n",
       "Brazoria      7\n",
       "Montgomery    6\n",
       "Fort Bend     5\n",
       "Liberty       2"
      ]
     },
     "execution_count": 10,
     "metadata": {},
     "output_type": "execute_result"
    }
   ],
   "source": [
    "pfas_houston_metro_num = pd.DataFrame(houston_metro.groupby('county')['ZIP'].count().sort_values(ascending=False))\n",
    "pfas_houston_metro_num.head(8)"
   ]
  },
  {
   "cell_type": "code",
   "execution_count": 7,
   "metadata": {},
   "outputs": [
    {
     "name": "stdout",
     "output_type": "stream",
     "text": [
      "More than $75,000    40\n",
      "$55,001 - $75,000    12\n",
      "$35,000 - $55,000     7\n",
      "Less than $35,000     1\n",
      "Name: Income_DESC, dtype: int64\n"
     ]
    }
   ],
   "source": [
    "# houston metro income counts\n",
    "print(houston_metro.Income_DESC.value_counts())"
   ]
  },
  {
   "cell_type": "code",
   "execution_count": 8,
   "metadata": {},
   "outputs": [
    {
     "name": "stdout",
     "output_type": "stream",
     "text": [
      "25.1% - 50%      39\n",
      "50.1% - 75%       9\n",
      "More than 75%     7\n",
      "10% - 25%         5\n",
      "Name: Nonwhite_DESC, dtype: int64\n"
     ]
    }
   ],
   "source": [
    "# houston metro non-white pop counts\n",
    "print(houston_metro.Nonwhite_DESC.value_counts())"
   ]
  }
 ],
 "metadata": {
  "kernelspec": {
   "display_name": "Python 3",
   "language": "python",
   "name": "python3"
  },
  "language_info": {
   "codemirror_mode": {
    "name": "ipython",
    "version": 3
   },
   "file_extension": ".py",
   "mimetype": "text/x-python",
   "name": "python",
   "nbconvert_exporter": "python",
   "pygments_lexer": "ipython3",
   "version": "3.10.4"
  },
  "orig_nbformat": 4
 },
 "nbformat": 4,
 "nbformat_minor": 2
}
